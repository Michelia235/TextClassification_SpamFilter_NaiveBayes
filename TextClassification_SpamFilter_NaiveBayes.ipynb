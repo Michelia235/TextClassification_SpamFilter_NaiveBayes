{
  "nbformat": 4,
  "nbformat_minor": 0,
  "metadata": {
    "colab": {
      "provenance": [],
      "authorship_tag": "ABX9TyMMx/KV+cSAFkPbcAuAanxH"
    },
    "kernelspec": {
      "name": "python3",
      "display_name": "Python 3"
    },
    "language_info": {
      "name": "python"
    }
  },
  "cells": [
    {
      "cell_type": "markdown",
      "source": [
        "## **1. Tải bộ dữ liệu**"
      ],
      "metadata": {
        "id": "W_uQED-tAs3N"
      }
    },
    {
      "cell_type": "code",
      "execution_count": null,
      "metadata": {
        "colab": {
          "base_uri": "https://localhost:8080/"
        },
        "id": "JAcLmZeFAMPy",
        "outputId": "77ed325e-e3c4-47f6-8fdb-773a39f81075"
      },
      "outputs": [
        {
          "output_type": "stream",
          "name": "stdout",
          "text": [
            "Mounted at /content/drive\n",
            "cp: missing destination file operand after '/path/to/dataset/on/your/drive.'\n",
            "Try 'cp --help' for more information.\n"
          ]
        }
      ],
      "source": [
        "from google.colab import drive\n",
        "\n",
        "drive.mount('/content/drive', force_remount=True)\n",
        "!cp /path/to/dataset/on/your/drive."
      ]
    },
    {
      "cell_type": "code",
      "source": [
        "!gdown --id 1N7rk-kfnDFIGMeX0ROVTjKh71gcgx-7R"
      ],
      "metadata": {
        "colab": {
          "base_uri": "https://localhost:8080/"
        },
        "id": "ydJwEEbgBz2t",
        "outputId": "fb387670-2821-4e26-9cd6-f1c8c993f3ba"
      },
      "execution_count": null,
      "outputs": [
        {
          "output_type": "stream",
          "name": "stdout",
          "text": [
            "/usr/local/lib/python3.10/dist-packages/gdown/__main__.py:132: FutureWarning: Option `--id` was deprecated in version 4.3.1 and will be removed in 5.0. You don't need to pass it anymore to use a file ID.\n",
            "  warnings.warn(\n",
            "Downloading...\n",
            "From: https://drive.google.com/uc?id=1N7rk-kfnDFIGMeX0ROVTjKh71gcgx-7R\n",
            "To: /content/2cls_spam_text_cls.csv\n",
            "100% 486k/486k [00:00<00:00, 98.4MB/s]\n"
          ]
        }
      ]
    },
    {
      "cell_type": "markdown",
      "source": [
        "## **2. Import các thư viện cần thiết**"
      ],
      "metadata": {
        "id": "e8OYQ9Z0B4kj"
      }
    },
    {
      "cell_type": "code",
      "source": [
        "import string\n",
        "import nltk\n",
        "nltk.download('stopwords')\n",
        "nltk.download('punkt')\n",
        "import pandas as pd\n",
        "import numpy as np\n",
        "import matplotlib.pyplot as plt\n",
        "\n",
        "from sklearn.model_selection import train_test_split\n",
        "from sklearn.naive_bayes import GaussianNB\n",
        "from sklearn.metrics import accuracy_score\n",
        "from sklearn.preprocessing import LabelEncoder"
      ],
      "metadata": {
        "colab": {
          "base_uri": "https://localhost:8080/"
        },
        "id": "hyJhrVa1B5pv",
        "outputId": "882e8d15-17c0-4670-cc71-92f5e808622b"
      },
      "execution_count": null,
      "outputs": [
        {
          "output_type": "stream",
          "name": "stderr",
          "text": [
            "[nltk_data] Downloading package stopwords to /root/nltk_data...\n",
            "[nltk_data]   Unzipping corpora/stopwords.zip.\n",
            "[nltk_data] Downloading package punkt to /root/nltk_data...\n",
            "[nltk_data]   Unzipping tokenizers/punkt.zip.\n"
          ]
        }
      ]
    },
    {
      "cell_type": "markdown",
      "source": [
        "## **3. Đọc dữ liệu**\n"
      ],
      "metadata": {
        "id": "0pwt-jeMDc4i"
      }
    },
    {
      "cell_type": "code",
      "source": [
        "DATASET_PATH = '/content/2cls_spam_text_cls.csv'\n",
        "df = pd.read_csv(DATASET_PATH)\n",
        "messages = df['Message'].values.tolist()\n",
        "labels = df['Category'].values.tolist()"
      ],
      "metadata": {
        "id": "ZZBR02FHDcCk"
      },
      "execution_count": null,
      "outputs": []
    },
    {
      "cell_type": "markdown",
      "source": [
        "## **4. Tiền xử lý dữ liệu**\n"
      ],
      "metadata": {
        "id": "tfy-FZfjEVdm"
      }
    },
    {
      "cell_type": "markdown",
      "source": [
        "### **Tiền xử lý dữ liệu đặc trưng:**\n"
      ],
      "metadata": {
        "id": "v1-4AUUqEe5Z"
      }
    },
    {
      "cell_type": "code",
      "source": [
        "# Chuyển văn bản thành chữ thường\n",
        "def lowercase(text):\n",
        "    return text.lower()\n",
        "\n",
        "# Loại bỏ tất cả dấu câu khỏi văn bản\n",
        "def punctuation_removal(text):\n",
        "    translator = str.maketrans('', '', string.punctuation)\n",
        "    return text.translate(translator)\n",
        "\n",
        "# Chia văn bản thành các từ\n",
        "def tokenize(text):\n",
        "    return nltk.word_tokenize(text)\n",
        "\n",
        "# Loại bỏ các từ dừng (stopwords) khỏi danh sách từ\n",
        "def remove_stopwords(tokens):\n",
        "    stop_words = nltk.corpus.stopwords.words('english')\n",
        "    return [token for token in tokens if token not in stop_words]\n",
        "\n",
        "# Thực hiện stemming để giảm từ về dạng gốc\n",
        "def stemming(tokens):\n",
        "    stemmer = nltk.PorterStemmer()\n",
        "    return [stemmer.stem(token) for token in tokens]\n",
        "\n",
        "# Tiền xử lý văn bản bằng cách áp dụng tất cả các bước trên\n",
        "def preprocess_text(text):\n",
        "    text = lowercase(text)\n",
        "    text = punctuation_removal(text)\n",
        "    tokens = tokenize(text)\n",
        "    tokens = remove_stopwords(tokens)\n",
        "    tokens = stemming(tokens)\n",
        "\n",
        "    return tokens\n"
      ],
      "metadata": {
        "id": "O7OduYUbEUe1"
      },
      "execution_count": null,
      "outputs": []
    },
    {
      "cell_type": "code",
      "source": [
        "messages = [preprocess_text(message) for message in messages]"
      ],
      "metadata": {
        "id": "lva6pj0nFSvC"
      },
      "execution_count": null,
      "outputs": []
    },
    {
      "cell_type": "code",
      "source": [
        "# Tạo từ điển chứa tất cả các từ độc nhất từ danh sách các tin nhắn\n",
        "def create_dictionary(messages):\n",
        "    dictionary = []  # Khởi tạo danh sách rỗng để lưu trữ các từ độc nhất\n",
        "\n",
        "    # Lặp qua từng danh sách các từ trong các tin nhắn\n",
        "    for tokens in messages:\n",
        "        # Lặp qua từng từ trong danh sách các từ của tin nhắn hiện tại\n",
        "        for token in tokens:\n",
        "            # Kiểm tra xem từ có nằm trong từ điển chưa\n",
        "            if token not in dictionary:\n",
        "                # Nếu từ chưa có trong từ điển, thêm từ vào từ điển\n",
        "                dictionary.append(token)\n",
        "\n",
        "    return dictionary  # Trả về từ điển chứa tất cả các từ độc nhất\n",
        "\n",
        "# Chuyển đổi danh sách các từ thành vector đặc trưng dựa trên từ điển\n",
        "def create_features(tokens, dictionary):\n",
        "    # Khởi tạo một vector đặc trưng toàn số 0 với chiều dài bằng số lượng từ trong từ điển\n",
        "    features = np.zeros(len(dictionary))\n",
        "\n",
        "    # Lặp qua từng từ trong danh sách các từ của tin nhắn\n",
        "    for token in tokens:\n",
        "        # Kiểm tra xem từ có nằm trong từ điển không\n",
        "        if token in dictionary:\n",
        "            # Nếu từ có trong từ điển, tìm vị trí của từ trong từ điển và tăng giá trị tại vị trí đó trong vector\n",
        "            features[dictionary.index(token)] += 1\n",
        "\n",
        "    return features  # Trả về vector đặc trưng với số lần xuất hiện của từng từ trong từ điển\n"
      ],
      "metadata": {
        "id": "To2nYugSFcCn"
      },
      "execution_count": null,
      "outputs": []
    },
    {
      "cell_type": "code",
      "source": [
        "dictionary = create_dictionary(messages)\n",
        "X = np.array([create_features(tokens, dictionary) for tokens in messages])"
      ],
      "metadata": {
        "id": "Sk_uZaTiFewW"
      },
      "execution_count": null,
      "outputs": []
    },
    {
      "cell_type": "markdown",
      "source": [
        "\n",
        "### **Tiền xử lý dữ liệu nhãn**"
      ],
      "metadata": {
        "id": "U7ksK4omDcZ2"
      }
    },
    {
      "cell_type": "code",
      "source": [
        "le = LabelEncoder()\n",
        "y = le.fit_transform(labels)\n",
        "print(f'Classes: {le.classes_}')\n",
        "print(f'Encoded labels: {y}')"
      ],
      "metadata": {
        "colab": {
          "base_uri": "https://localhost:8080/"
        },
        "id": "51gse4NlFm29",
        "outputId": "e242cea7-646b-42cc-be86-7f7e12fb568f"
      },
      "execution_count": null,
      "outputs": [
        {
          "output_type": "stream",
          "name": "stdout",
          "text": [
            "Classes: ['ham' 'spam']\n",
            "Encoded labels: [0 0 1 ... 0 0 0]\n"
          ]
        }
      ]
    },
    {
      "cell_type": "markdown",
      "source": [
        "## **5. Chia bộ dữ liệu train/val/test**\n"
      ],
      "metadata": {
        "id": "iAxCU-uiFvTo"
      }
    },
    {
      "cell_type": "code",
      "source": [
        "VAL_SIZE = 0.2\n",
        "TEST_SIZE = 0.125\n",
        "SEED = 0\n",
        "\n",
        "X_train, X_val, y_train, y_val = train_test_split(X, y,\n",
        "                                                  test_size=VAL_SIZE,\n",
        "                                                  shuffle=True,\n",
        "                                                  random_state=SEED)\n",
        "X_train, X_test, y_train, y_test = train_test_split(X_train, y_train,\n",
        "                                                    test_size=TEST_SIZE,\n",
        "                                                    shuffle=True,\n",
        "                                                    random_state=SEED)"
      ],
      "metadata": {
        "id": "Z4iLqnATF3Xn"
      },
      "execution_count": null,
      "outputs": []
    },
    {
      "cell_type": "code",
      "source": [
        "print(f'Number of training examples: {X_train.shape[0]}')\n",
        "print(f'Number of validation examples: {X_val.shape[0]}')\n",
        "print(f'Number of testing examples: {X_test.shape[0]}')"
      ],
      "metadata": {
        "colab": {
          "base_uri": "https://localhost:8080/"
        },
        "id": "sOrBiK2BcTVO",
        "outputId": "377e2836-b532-42e4-8752-3113ca9c9011"
      },
      "execution_count": null,
      "outputs": [
        {
          "output_type": "stream",
          "name": "stdout",
          "text": [
            "Number of training examples: 3899\n",
            "Number of validation examples: 1115\n",
            "Number of testing examples: 558\n"
          ]
        }
      ]
    },
    {
      "cell_type": "markdown",
      "source": [
        "## **6. Huấn luyện mô hình**"
      ],
      "metadata": {
        "id": "s3agr7I6GDJv"
      }
    },
    {
      "cell_type": "code",
      "source": [
        "%%time\n",
        "model = GaussianNB()\n",
        "print('Start training...')\n",
        "model = model.fit(X_train, y_train)\n",
        "print('Training completed!')"
      ],
      "metadata": {
        "colab": {
          "base_uri": "https://localhost:8080/"
        },
        "id": "TaKbbPuQGF5A",
        "outputId": "48b7a042-80a0-423a-89e5-ae1e723e9693"
      },
      "execution_count": null,
      "outputs": [
        {
          "output_type": "stream",
          "name": "stdout",
          "text": [
            "Start training...\n",
            "Training completed!\n",
            "CPU times: user 355 ms, sys: 230 ms, total: 586 ms\n",
            "Wall time: 577 ms\n"
          ]
        }
      ]
    },
    {
      "cell_type": "markdown",
      "source": [
        "## **7. Đánh giá mô hình**"
      ],
      "metadata": {
        "id": "9hi4Q3JcGP-e"
      }
    },
    {
      "cell_type": "code",
      "source": [
        "y_val_pred = model.predict(X_val)\n",
        "y_test_pred = model.predict(X_test)\n",
        "val_accuracy = accuracy_score(y_val, y_val_pred)\n",
        "test_accuracy = accuracy_score(y_test, y_test_pred)\n",
        "print(f'Val accuracy: {val_accuracy}')\n",
        "print(f'Test accuracy: {test_accuracy}')"
      ],
      "metadata": {
        "colab": {
          "base_uri": "https://localhost:8080/"
        },
        "id": "z1uvYiStGT_R",
        "outputId": "2497d55b-1de8-4a1b-d0dc-339912ae1b98"
      },
      "execution_count": null,
      "outputs": [
        {
          "output_type": "stream",
          "name": "stdout",
          "text": [
            "Val accuracy: 0.8816143497757848\n",
            "Test accuracy: 0.8602150537634409\n"
          ]
        }
      ]
    },
    {
      "cell_type": "markdown",
      "source": [
        "## **8. Thực hiện dự đoán**"
      ],
      "metadata": {
        "id": "0qxZzsPdGbth"
      }
    },
    {
      "cell_type": "code",
      "source": [
        "def predict(text, model, dictionary):\n",
        "    processed_text = preprocess_text(text)\n",
        "    features = create_features(text, dictionary)\n",
        "    features = np.array(features).reshape(1, -1)\n",
        "    prediction = model.predict(features)\n",
        "    prediction_cls = le.inverse_transform(prediction)[0]\n",
        "\n",
        "    return prediction_cls"
      ],
      "metadata": {
        "id": "JV95I_ydGpmm"
      },
      "execution_count": null,
      "outputs": []
    },
    {
      "cell_type": "code",
      "source": [
        "test_input = 'Hong Kiet is a handsome'\n",
        "prediction_cls = predict(test_input, model, dictionary)\n",
        "print(f'Prediction: {prediction_cls}')"
      ],
      "metadata": {
        "colab": {
          "base_uri": "https://localhost:8080/"
        },
        "id": "njwyW91sGvJg",
        "outputId": "e09845c2-3275-4229-cd67-8dbbad0b10ca"
      },
      "execution_count": null,
      "outputs": [
        {
          "output_type": "stream",
          "name": "stdout",
          "text": [
            "Prediction: ham\n"
          ]
        }
      ]
    }
  ]
}